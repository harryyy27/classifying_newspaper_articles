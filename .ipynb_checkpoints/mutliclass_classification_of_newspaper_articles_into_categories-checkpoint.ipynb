{
 "cells": [
  {
   "cell_type": "markdown",
   "metadata": {},
   "source": [
    "# Multiclass Classification Of Newspaper Articles Into Respective Categories\n",
    "\n",
    "For this project I will be using the Keras Reuters dataset in order to attempt a multiclass classification problem."
   ]
  },
  {
   "cell_type": "code",
   "execution_count": 18,
   "metadata": {},
   "outputs": [
    {
     "name": "stdout",
     "output_type": "stream",
     "text": [
      "Encoded sequence of words in newspaper article [1, 2, 2, 8, 43, 10, 447, 5, 25, 207, 270, 5, 3095, 111, 16, 369, 186, 90, 67, 7, 89, 5, 19, 102, 6, 19, 124, 15, 90, 67, 84, 22, 482, 26, 7, 48, 4, 49, 8, 864, 39, 209, 154, 6, 151, 6, 83, 11, 15, 22, 155, 11, 15, 7, 48, 9, 4579, 1005, 504, 6, 258, 6, 272, 11, 15, 22, 134, 44, 11, 15, 16, 8, 197, 1245, 90, 67, 52, 29, 209, 30, 32, 132, 6, 109, 15, 17, 12]\n",
      "Class 3\n"
     ]
    }
   ],
   "source": [
    "from keras.datasets import reuters\n",
    "import numpy as np\n",
    "from keras import models\n",
    "from keras import layers\n",
    "import matplotlib.pyplot as plt\n",
    "\n",
    "(train_data,train_labels),(test_data,test_labels) = reuters.load_data(num_words=10000)\n",
    "\n",
    "\n",
    "def one_hot_encode(sequences,dimensions=10000):\n",
    "    results = np.zeros((len(sequences),dimensions))\n",
    "    for i,sequence in enumerate(sequences):\n",
    "        results[i,sequence]=1.\n",
    "\n",
    "    return results\n",
    "\n",
    "print('Encoded sequence of words in newspaper article',train_data[0])\n",
    "print('Class',train_labels[0])"
   ]
  },
  {
   "cell_type": "markdown",
   "metadata": {},
   "source": [
    "So for this particular challenge there are 46 different classes into which the newspapers can fall. An example has been printed above."
   ]
  },
  {
   "cell_type": "code",
   "execution_count": 19,
   "metadata": {},
   "outputs": [],
   "source": [
    "x_train=one_hot_encode(train_data)\n",
    "x_test=one_hot_encode(test_data)\n",
    "y_train=one_hot_encode(train_labels,46)\n",
    "y_test = one_hot_encode(test_labels,46)\n",
    "\n",
    "x_val = x_train[:1000]\n",
    "partial_x_train= x_train[1000:]\n",
    "\n",
    "y_val = y_train[:1000]\n",
    "partial_y_train = y_train[1000:]"
   ]
  },
  {
   "cell_type": "markdown",
   "metadata": {},
   "source": [
    "For this example I've split the data into both a training and validation set in order to analyse how the model will perform against new data after each training epoch. This gives me a good idea of when my model will start overfitting. Overfitting is the equivalent of learning the answers to an exam you're taking. The real magic happens in the working. If a machine learning algorithm overfits it simply learns how to classify the data you've given it and will struggle with any new data. When using a validation you can constantly give your algorithm new after each epoch to determine whether or not the model is still improving. This will require taking advantage of the validation_data field. "
   ]
  },
  {
   "cell_type": "code",
   "execution_count": 20,
   "metadata": {},
   "outputs": [
    {
     "name": "stdout",
     "output_type": "stream",
     "text": [
      "Train on 7982 samples, validate on 1000 samples\n",
      "Epoch 1/20\n",
      "7982/7982 [==============================] - 2s 257us/step - loss: 2.5318 - acc: 0.4945 - val_loss: 1.7235 - val_acc: 0.6100\n",
      "Epoch 2/20\n",
      "7982/7982 [==============================] - 1s 138us/step - loss: 1.4504 - acc: 0.6873 - val_loss: 1.3487 - val_acc: 0.7070\n",
      "Epoch 3/20\n",
      "7982/7982 [==============================] - 1s 141us/step - loss: 1.0985 - acc: 0.7646 - val_loss: 1.1696 - val_acc: 0.7450\n",
      "Epoch 4/20\n",
      "7982/7982 [==============================] - 1s 137us/step - loss: 0.8701 - acc: 0.8172 - val_loss: 1.0805 - val_acc: 0.7580\n",
      "Epoch 5/20\n",
      "7982/7982 [==============================] - 1s 141us/step - loss: 0.7028 - acc: 0.8468 - val_loss: 0.9828 - val_acc: 0.7850\n",
      "Epoch 6/20\n",
      "7982/7982 [==============================] - 1s 139us/step - loss: 0.5659 - acc: 0.8799 - val_loss: 0.9388 - val_acc: 0.8020\n",
      "Epoch 7/20\n",
      "7982/7982 [==============================] - 1s 143us/step - loss: 0.4584 - acc: 0.9047 - val_loss: 0.9059 - val_acc: 0.8050\n",
      "Epoch 8/20\n",
      "7982/7982 [==============================] - 1s 138us/step - loss: 0.3699 - acc: 0.9236 - val_loss: 0.9333 - val_acc: 0.7910\n",
      "Epoch 9/20\n",
      "7982/7982 [==============================] - 1s 140us/step - loss: 0.3037 - acc: 0.9312 - val_loss: 0.8895 - val_acc: 0.8090\n",
      "Epoch 10/20\n",
      "7982/7982 [==============================] - 1s 148us/step - loss: 0.2543 - acc: 0.9415 - val_loss: 0.9021 - val_acc: 0.8160\n",
      "Epoch 11/20\n",
      "7982/7982 [==============================] - 1s 139us/step - loss: 0.2189 - acc: 0.9480 - val_loss: 0.9154 - val_acc: 0.8110\n",
      "Epoch 12/20\n",
      "7982/7982 [==============================] - 1s 141us/step - loss: 0.1882 - acc: 0.9511 - val_loss: 0.9031 - val_acc: 0.8130\n",
      "Epoch 13/20\n",
      "7982/7982 [==============================] - 1s 139us/step - loss: 0.1702 - acc: 0.9528 - val_loss: 0.9325 - val_acc: 0.8090\n",
      "Epoch 14/20\n",
      "7982/7982 [==============================] - 1s 134us/step - loss: 0.1536 - acc: 0.9554 - val_loss: 0.9647 - val_acc: 0.8080\n",
      "Epoch 15/20\n",
      "7982/7982 [==============================] - 1s 134us/step - loss: 0.1393 - acc: 0.9555 - val_loss: 0.9662 - val_acc: 0.8160\n",
      "Epoch 16/20\n",
      "7982/7982 [==============================] - 1s 133us/step - loss: 0.1315 - acc: 0.9563 - val_loss: 1.0237 - val_acc: 0.8060\n",
      "Epoch 17/20\n",
      "7982/7982 [==============================] - 1s 136us/step - loss: 0.1219 - acc: 0.9582 - val_loss: 1.0198 - val_acc: 0.7990\n",
      "Epoch 18/20\n",
      "7982/7982 [==============================] - 1s 142us/step - loss: 0.1197 - acc: 0.9584 - val_loss: 1.0410 - val_acc: 0.8030\n",
      "Epoch 19/20\n",
      "7982/7982 [==============================] - 1s 140us/step - loss: 0.1139 - acc: 0.9592 - val_loss: 1.0962 - val_acc: 0.7970\n",
      "Epoch 20/20\n",
      "7982/7982 [==============================] - 1s 136us/step - loss: 0.1111 - acc: 0.9602 - val_loss: 1.0689 - val_acc: 0.8020\n"
     ]
    },
    {
     "data": {
      "image/png": "[encoded data removed]",
      "text/plain": [
       "<Figure size 432x288 with 1 Axes>"
      ]
     },
     "metadata": {
      "needs_background": "light"
     },
     "output_type": "display_data"
    }
   ],
   "source": [
    "model = models.Sequential()\n",
    "\n",
    "model.add(layers.Dense(64,activation='relu',input_shape=(10000,)))\n",
    "model.add(layers.Dense(64, activation='relu'))\n",
    "model.add(layers.Dense(46, activation='softmax'))\n",
    "\n",
    "model.compile(optimizer='rmsprop',loss='categorical_crossentropy',metrics=['accuracy'])\n",
    "\n",
    "history = model.fit(partial_x_train,\n",
    "                    partial_y_train, \n",
    "                    epochs=20,\n",
    "                    batch_size=512,\n",
    "                    validation_data=(x_val,y_val))\n",
    "\n",
    "loss = history.history['loss']\n",
    "val_loss = history.history['val_loss']\n",
    "\n",
    "epochs = range(1, len(loss)+1)\n",
    "\n",
    "plt.plot(epochs, loss, 'ro', label='Training Loss')\n",
    "plt.plot(epochs, val_loss, 'b', label='Validation Loss')\n",
    "plt.title('Training and validation loss')\n",
    "plt.xlabel('Epochs')\n",
    "plt.ylabel('Loss')\n",
    "plt.legend()\n",
    "\n",
    "plt.show()"
   ]
  },
  {
   "cell_type": "markdown",
   "metadata": {},
   "source": [
    "This shows you the relationship between number of epochs and overfitting. There comes a point when a minimum is reached on the validation curve. This is where the accuracy of the model has reached its peak. The validation loss is evidently lowest here. The training loss continues to dip as the accuracy of the model improves. It peaks at about epoch 9 and then dips again. So this is where we want to cut our algorithm short. Before that though, an experiment. What will happen if we make our model larger by adding extra hidden layers."
   ]
  },
  {
   "cell_type": "code",
   "execution_count": 23,
   "metadata": {},
   "outputs": [
    {
     "name": "stdout",
     "output_type": "stream",
     "text": [
      "Train on 7982 samples, validate on 1000 samples\n",
      "Epoch 1/20\n",
      "7982/7982 [==============================] - 2s 276us/step - loss: 2.2182 - acc: 0.5574 - val_loss: 1.4355 - val_acc: 0.6610\n",
      "Epoch 2/20\n",
      "7982/7982 [==============================] - 1s 173us/step - loss: 1.1376 - acc: 0.7496 - val_loss: 1.1182 - val_acc: 0.7690\n",
      "Epoch 3/20\n",
      "7982/7982 [==============================] - 1s 176us/step - loss: 0.7940 - acc: 0.8286 - val_loss: 0.9955 - val_acc: 0.7880\n",
      "Epoch 4/20\n",
      "7982/7982 [==============================] - 1s 175us/step - loss: 0.5750 - acc: 0.8820 - val_loss: 0.9622 - val_acc: 0.7990\n",
      "Epoch 5/20\n",
      "7982/7982 [==============================] - 1s 175us/step - loss: 0.4239 - acc: 0.9102 - val_loss: 0.8861 - val_acc: 0.8270\n",
      "Epoch 6/20\n",
      "7982/7982 [==============================] - 1s 176us/step - loss: 0.3148 - acc: 0.9344 - val_loss: 0.9524 - val_acc: 0.8100\n",
      "Epoch 7/20\n",
      "7982/7982 [==============================] - 1s 176us/step - loss: 0.2540 - acc: 0.9419 - val_loss: 0.8488 - val_acc: 0.8260\n",
      "Epoch 8/20\n",
      "7982/7982 [==============================] - 1s 181us/step - loss: 0.2050 - acc: 0.9490 - val_loss: 0.9108 - val_acc: 0.8150\n",
      "Epoch 9/20\n",
      "7982/7982 [==============================] - 1s 178us/step - loss: 0.1838 - acc: 0.9516 - val_loss: 0.9834 - val_acc: 0.8000\n",
      "Epoch 10/20\n",
      "7982/7982 [==============================] - 1s 188us/step - loss: 0.1655 - acc: 0.9523 - val_loss: 0.9423 - val_acc: 0.8160\n",
      "Epoch 11/20\n",
      "7982/7982 [==============================] - 1s 176us/step - loss: 0.1495 - acc: 0.9531 - val_loss: 1.0496 - val_acc: 0.7980\n",
      "Epoch 12/20\n",
      "7982/7982 [==============================] - 1s 183us/step - loss: 0.1450 - acc: 0.9563 - val_loss: 0.9807 - val_acc: 0.8120\n",
      "Epoch 13/20\n",
      "7982/7982 [==============================] - 1s 179us/step - loss: 0.1373 - acc: 0.9560 - val_loss: 0.9696 - val_acc: 0.8220\n",
      "Epoch 14/20\n",
      "7982/7982 [==============================] - 1s 185us/step - loss: 0.1247 - acc: 0.9575 - val_loss: 1.0506 - val_acc: 0.8110\n",
      "Epoch 15/20\n",
      "7982/7982 [==============================] - 1s 174us/step - loss: 0.1266 - acc: 0.9549 - val_loss: 1.0249 - val_acc: 0.8120\n",
      "Epoch 16/20\n",
      "7982/7982 [==============================] - 1s 176us/step - loss: 0.1192 - acc: 0.9577 - val_loss: 1.1954 - val_acc: 0.7940\n",
      "Epoch 17/20\n",
      "7982/7982 [==============================] - 1s 179us/step - loss: 0.1180 - acc: 0.9577 - val_loss: 1.0411 - val_acc: 0.8030\n",
      "Epoch 18/20\n",
      "7982/7982 [==============================] - 1s 187us/step - loss: 0.1123 - acc: 0.9564 - val_loss: 1.0461 - val_acc: 0.8010\n",
      "Epoch 19/20\n",
      "7982/7982 [==============================] - 2s 193us/step - loss: 0.1162 - acc: 0.9579 - val_loss: 1.0990 - val_acc: 0.8010\n",
      "Epoch 20/20\n",
      "7982/7982 [==============================] - 1s 186us/step - loss: 0.1086 - acc: 0.9582 - val_loss: 1.1748 - val_acc: 0.7980\n"
     ]
    },
    {
     "data": {
      "image/png": "[encoded data removed]",
      "text/plain": [
       "<Figure size 432x288 with 1 Axes>"
      ]
     },
     "metadata": {
      "needs_background": "light"
     },
     "output_type": "display_data"
    }
   ],
   "source": [
    "model2 = models.Sequential()\n",
    "\n",
    "model2.add(layers.Dense(128,activation='relu',input_shape=(10000,)))\n",
    "model2.add(layers.Dense(128, activation='relu'))\n",
    "model2.add(layers.Dense(46, activation='softmax'))\n",
    "\n",
    "model2.compile(optimizer='rmsprop',loss='categorical_crossentropy',metrics=['accuracy'])\n",
    "\n",
    "history2 = model2.fit(partial_x_train,\n",
    "                    partial_y_train, \n",
    "                    epochs=20,\n",
    "                    batch_size=512,\n",
    "                    validation_data=(x_val,y_val))\n",
    "\n",
    "loss2 = history2.history['loss']\n",
    "val_loss2 = history2.history['val_loss']\n",
    "\n",
    "epochs = range(1, len(loss)+1)\n",
    "\n",
    "plt.plot(epochs, loss2, 'ro', label='Training Loss')\n",
    "plt.plot(epochs, val_loss2, 'b', label='Validation Loss')\n",
    "plt.title('Training and validation loss')\n",
    "plt.xlabel('Epochs')\n",
    "plt.ylabel('Loss')\n",
    "plt.legend()\n",
    "\n",
    "plt.show()"
   ]
  },
  {
   "cell_type": "code",
   "execution_count": 24,
   "metadata": {},
   "outputs": [
    {
     "name": "stdout",
     "output_type": "stream",
     "text": [
      "Train on 7982 samples, validate on 1000 samples\n",
      "Epoch 1/20\n",
      "7982/7982 [==============================] - 2s 302us/step - loss: 2.2824 - acc: 0.5104 - val_loss: 1.4693 - val_acc: 0.6600\n",
      "Epoch 2/20\n",
      "7982/7982 [==============================] - 1s 173us/step - loss: 1.2197 - acc: 0.7299 - val_loss: 1.1700 - val_acc: 0.7440\n",
      "Epoch 3/20\n",
      "7982/7982 [==============================] - 1s 176us/step - loss: 0.8964 - acc: 0.7984 - val_loss: 1.0325 - val_acc: 0.7640\n",
      "Epoch 4/20\n",
      "7982/7982 [==============================] - 1s 178us/step - loss: 0.6649 - acc: 0.8485 - val_loss: 0.9842 - val_acc: 0.7760\n",
      "Epoch 5/20\n",
      "7982/7982 [==============================] - 1s 177us/step - loss: 0.4933 - acc: 0.8961 - val_loss: 0.9159 - val_acc: 0.8000\n",
      "Epoch 6/20\n",
      "7982/7982 [==============================] - 1s 179us/step - loss: 0.3946 - acc: 0.9110 - val_loss: 0.9337 - val_acc: 0.8070\n",
      "Epoch 7/20\n",
      "7982/7982 [==============================] - 1s 178us/step - loss: 0.2801 - acc: 0.9385 - val_loss: 1.0034 - val_acc: 0.7960\n",
      "Epoch 8/20\n",
      "7982/7982 [==============================] - 1s 177us/step - loss: 0.2595 - acc: 0.9404 - val_loss: 0.9638 - val_acc: 0.8110\n",
      "Epoch 9/20\n",
      "7982/7982 [==============================] - 1s 177us/step - loss: 0.1982 - acc: 0.9520 - val_loss: 1.0038 - val_acc: 0.8030\n",
      "Epoch 10/20\n",
      "7982/7982 [==============================] - 1s 180us/step - loss: 0.1740 - acc: 0.9526 - val_loss: 1.0074 - val_acc: 0.8100\n",
      "Epoch 11/20\n",
      "7982/7982 [==============================] - 1s 177us/step - loss: 0.1650 - acc: 0.9553 - val_loss: 1.0570 - val_acc: 0.8080\n",
      "Epoch 12/20\n",
      "7982/7982 [==============================] - 1s 180us/step - loss: 0.1481 - acc: 0.9554 - val_loss: 1.0840 - val_acc: 0.8030\n",
      "Epoch 13/20\n",
      "7982/7982 [==============================] - 2s 195us/step - loss: 0.1403 - acc: 0.9575 - val_loss: 1.0973 - val_acc: 0.8050\n",
      "Epoch 14/20\n",
      "7982/7982 [==============================] - 2s 189us/step - loss: 0.1369 - acc: 0.9565 - val_loss: 1.1647 - val_acc: 0.7870\n",
      "Epoch 15/20\n",
      "7982/7982 [==============================] - 1s 177us/step - loss: 0.1303 - acc: 0.9564 - val_loss: 1.1684 - val_acc: 0.7860\n",
      "Epoch 16/20\n",
      "7982/7982 [==============================] - 2s 194us/step - loss: 0.1245 - acc: 0.9558 - val_loss: 1.1989 - val_acc: 0.7850\n",
      "Epoch 17/20\n",
      "7982/7982 [==============================] - 1s 181us/step - loss: 0.1166 - acc: 0.9574 - val_loss: 1.1536 - val_acc: 0.7990\n",
      "Epoch 18/20\n",
      "7982/7982 [==============================] - 1s 182us/step - loss: 0.1179 - acc: 0.9583 - val_loss: 1.1764 - val_acc: 0.8000\n",
      "Epoch 19/20\n",
      "7982/7982 [==============================] - 2s 189us/step - loss: 0.1106 - acc: 0.9582 - val_loss: 1.1352 - val_acc: 0.7970\n",
      "Epoch 20/20\n",
      "7982/7982 [==============================] - 2s 191us/step - loss: 0.1082 - acc: 0.9585 - val_loss: 1.1164 - val_acc: 0.8060\n"
     ]
    },
    {
     "data": {
      "image/png": "[encoded data removed]",
      "text/plain": [
       "<Figure size 432x288 with 1 Axes>"
      ]
     },
     "metadata": {
      "needs_background": "light"
     },
     "output_type": "display_data"
    }
   ],
   "source": [
    "model3 = models.Sequential()\n",
    "\n",
    "model3.add(layers.Dense(128,activation='relu',input_shape=(10000,)))\n",
    "model3.add(layers.Dense(128, activation='relu'))\n",
    "model3.add(layers.Dense(64, activation='relu'))\n",
    "model3.add(layers.Dense(46, activation='softmax'))\n",
    "\n",
    "model3.compile(optimizer='rmsprop',loss='categorical_crossentropy',metrics=['accuracy'])\n",
    "\n",
    "history3 = model3.fit(partial_x_train,\n",
    "                    partial_y_train, \n",
    "                    epochs=20,\n",
    "                    batch_size=512,\n",
    "                    validation_data=(x_val,y_val))\n",
    "\n",
    "loss3 = history3.history['loss']\n",
    "val_loss3 = history3.history['val_loss']\n",
    "\n",
    "epochs = range(1, len(loss)+1)\n",
    "\n",
    "plt.plot(epochs, loss3, 'ro', label='Training Loss')\n",
    "plt.plot(epochs, val_loss3, 'b', label='Validation Loss')\n",
    "plt.title('Training and validation loss')\n",
    "plt.xlabel('Epochs')\n",
    "plt.ylabel('Loss')\n",
    "plt.legend()\n",
    "\n",
    "plt.show()"
   ]
  },
  {
   "cell_type": "code",
   "execution_count": 25,
   "metadata": {},
   "outputs": [
    {
     "name": "stdout",
     "output_type": "stream",
     "text": [
      "Train on 7982 samples, validate on 1000 samples\n",
      "Epoch 1/20\n",
      "7982/7982 [==============================] - 2s 272us/step - loss: 2.2894 - acc: 0.5645 - val_loss: 1.5102 - val_acc: 0.6760\n",
      "Epoch 2/20\n",
      "7982/7982 [==============================] - 1s 156us/step - loss: 1.1679 - acc: 0.7595 - val_loss: 1.1573 - val_acc: 0.7310\n",
      "Epoch 3/20\n",
      "7982/7982 [==============================] - 1s 158us/step - loss: 0.8183 - acc: 0.8327 - val_loss: 1.0084 - val_acc: 0.7880\n",
      "Epoch 4/20\n",
      "7982/7982 [==============================] - 1s 159us/step - loss: 0.5943 - acc: 0.8809 - val_loss: 0.9430 - val_acc: 0.7970\n",
      "Epoch 5/20\n",
      "7982/7982 [==============================] - 1s 164us/step - loss: 0.4448 - acc: 0.9082 - val_loss: 0.9036 - val_acc: 0.8090\n",
      "Epoch 6/20\n",
      "7982/7982 [==============================] - 1s 163us/step - loss: 0.3439 - acc: 0.9291 - val_loss: 0.8806 - val_acc: 0.8190\n",
      "Epoch 7/20\n",
      "7982/7982 [==============================] - 1s 159us/step - loss: 0.2720 - acc: 0.9374 - val_loss: 0.8708 - val_acc: 0.8250\n",
      "Epoch 8/20\n",
      "7982/7982 [==============================] - 1s 164us/step - loss: 0.2233 - acc: 0.9466 - val_loss: 0.9700 - val_acc: 0.7990\n",
      "Epoch 9/20\n",
      "7982/7982 [==============================] - 1s 164us/step - loss: 0.1964 - acc: 0.9499 - val_loss: 0.9209 - val_acc: 0.8060\n",
      "Epoch 10/20\n",
      "7982/7982 [==============================] - 1s 159us/step - loss: 0.1666 - acc: 0.9513 - val_loss: 0.9170 - val_acc: 0.8180\n",
      "Epoch 11/20\n",
      "7982/7982 [==============================] - 1s 160us/step - loss: 0.1548 - acc: 0.9544 - val_loss: 0.9834 - val_acc: 0.7960\n",
      "Epoch 12/20\n",
      "7982/7982 [==============================] - 1s 163us/step - loss: 0.1435 - acc: 0.9540 - val_loss: 0.9685 - val_acc: 0.8100\n",
      "Epoch 13/20\n",
      "7982/7982 [==============================] - 1s 165us/step - loss: 0.1315 - acc: 0.9569 - val_loss: 1.0177 - val_acc: 0.8060\n",
      "Epoch 14/20\n",
      "7982/7982 [==============================] - 1s 167us/step - loss: 0.1310 - acc: 0.9570 - val_loss: 1.0037 - val_acc: 0.8130\n",
      "Epoch 15/20\n",
      "7982/7982 [==============================] - 1s 165us/step - loss: 0.1257 - acc: 0.9578 - val_loss: 1.0201 - val_acc: 0.8080\n",
      "Epoch 16/20\n",
      "7982/7982 [==============================] - 1s 165us/step - loss: 0.1171 - acc: 0.9578 - val_loss: 1.0636 - val_acc: 0.7920\n",
      "Epoch 17/20\n",
      "7982/7982 [==============================] - 1s 159us/step - loss: 0.1180 - acc: 0.9575 - val_loss: 1.0791 - val_acc: 0.8010\n",
      "Epoch 18/20\n",
      "7982/7982 [==============================] - 1s 157us/step - loss: 0.1147 - acc: 0.9575 - val_loss: 1.0721 - val_acc: 0.7990\n",
      "Epoch 19/20\n",
      "7982/7982 [==============================] - 1s 168us/step - loss: 0.1190 - acc: 0.9551 - val_loss: 1.0649 - val_acc: 0.8010\n",
      "Epoch 20/20\n",
      "7982/7982 [==============================] - 1s 160us/step - loss: 0.1053 - acc: 0.9573 - val_loss: 1.2478 - val_acc: 0.7730\n"
     ]
    },
    {
     "data": {
      "image/png": "[encoded data removed]",
      "text/plain": [
       "<Figure size 432x288 with 1 Axes>"
      ]
     },
     "metadata": {
      "needs_background": "light"
     },
     "output_type": "display_data"
    }
   ],
   "source": [
    "model4 = models.Sequential()\n",
    "\n",
    "model4.add(layers.Dense(128,activation='relu',input_shape=(10000,)))\n",
    "model4.add(layers.Dense(64, activation='relu'))\n",
    "model4.add(layers.Dense(46, activation='softmax'))\n",
    "\n",
    "model4.compile(optimizer='rmsprop',loss='categorical_crossentropy',metrics=['accuracy'])\n",
    "\n",
    "history4 = model4.fit(partial_x_train,\n",
    "                    partial_y_train, \n",
    "                    epochs=20,\n",
    "                    batch_size=512,\n",
    "                    validation_data=(x_val,y_val))\n",
    "\n",
    "loss4 = history4.history['loss']\n",
    "val_loss4 = history4.history['val_loss']\n",
    "\n",
    "epochs = range(1, len(loss)+1)\n",
    "\n",
    "plt.plot(epochs, loss4, 'ro', label='Training Loss')\n",
    "plt.plot(epochs, val_loss4, 'b', label='Validation Loss')\n",
    "plt.title('Training and validation loss')\n",
    "plt.xlabel('Epochs')\n",
    "plt.ylabel('Loss')\n",
    "plt.legend()\n",
    "\n",
    "plt.show()"
   ]
  },
  {
   "cell_type": "code",
   "execution_count": 26,
   "metadata": {},
   "outputs": [
    {
     "name": "stdout",
     "output_type": "stream",
     "text": [
      "Train on 7982 samples, validate on 1000 samples\n",
      "Epoch 1/20\n",
      "7982/7982 [==============================] - 2s 288us/step - loss: 2.4092 - acc: 0.5238 - val_loss: 1.5412 - val_acc: 0.6740\n",
      "Epoch 2/20\n",
      "7982/7982 [==============================] - 1s 158us/step - loss: 1.2506 - acc: 0.7261 - val_loss: 1.2410 - val_acc: 0.7340\n",
      "Epoch 3/20\n",
      "7982/7982 [==============================] - 1s 160us/step - loss: 0.9011 - acc: 0.8051 - val_loss: 1.1122 - val_acc: 0.7470\n",
      "Epoch 4/20\n",
      "7982/7982 [==============================] - 1s 160us/step - loss: 0.6679 - acc: 0.8553 - val_loss: 0.9801 - val_acc: 0.8040\n",
      "Epoch 5/20\n",
      "7982/7982 [==============================] - 1s 172us/step - loss: 0.5081 - acc: 0.8886 - val_loss: 1.0180 - val_acc: 0.7870\n",
      "Epoch 6/20\n",
      "7982/7982 [==============================] - 1s 164us/step - loss: 0.3847 - acc: 0.9178 - val_loss: 0.9378 - val_acc: 0.8110\n",
      "Epoch 7/20\n",
      "7982/7982 [==============================] - 1s 164us/step - loss: 0.3165 - acc: 0.9322 - val_loss: 0.9696 - val_acc: 0.8040\n",
      "Epoch 8/20\n",
      "7982/7982 [==============================] - 1s 165us/step - loss: 0.2634 - acc: 0.9415 - val_loss: 0.9734 - val_acc: 0.8040\n",
      "Epoch 9/20\n",
      "7982/7982 [==============================] - 1s 161us/step - loss: 0.2055 - acc: 0.9481 - val_loss: 0.9731 - val_acc: 0.8090\n",
      "Epoch 10/20\n",
      "7982/7982 [==============================] - 1s 180us/step - loss: 0.1905 - acc: 0.9489 - val_loss: 1.1542 - val_acc: 0.7860\n",
      "Epoch 11/20\n",
      "7982/7982 [==============================] - 1s 166us/step - loss: 0.1749 - acc: 0.9533 - val_loss: 1.0286 - val_acc: 0.8120\n",
      "Epoch 12/20\n",
      "7982/7982 [==============================] - 1s 162us/step - loss: 0.1568 - acc: 0.9543 - val_loss: 1.0501 - val_acc: 0.8070\n",
      "Epoch 13/20\n",
      "7982/7982 [==============================] - 1s 164us/step - loss: 0.1512 - acc: 0.9551 - val_loss: 1.0509 - val_acc: 0.8060\n",
      "Epoch 14/20\n",
      "7982/7982 [==============================] - 1s 162us/step - loss: 0.1414 - acc: 0.9559 - val_loss: 1.1225 - val_acc: 0.7890\n",
      "Epoch 15/20\n",
      "7982/7982 [==============================] - 1s 167us/step - loss: 0.1380 - acc: 0.9575 - val_loss: 1.1314 - val_acc: 0.7900\n",
      "Epoch 16/20\n",
      "7982/7982 [==============================] - 1s 170us/step - loss: 0.1254 - acc: 0.9572 - val_loss: 1.2080 - val_acc: 0.7850\n",
      "Epoch 17/20\n",
      "7982/7982 [==============================] - 1s 165us/step - loss: 0.1264 - acc: 0.9567 - val_loss: 1.0891 - val_acc: 0.8070\n",
      "Epoch 18/20\n",
      "7982/7982 [==============================] - 1s 166us/step - loss: 0.1198 - acc: 0.9575 - val_loss: 1.3916 - val_acc: 0.7640\n",
      "Epoch 19/20\n",
      "7982/7982 [==============================] - 2s 190us/step - loss: 0.1204 - acc: 0.9585 - val_loss: 1.1575 - val_acc: 0.7980\n",
      "Epoch 20/20\n",
      "7982/7982 [==============================] - 1s 172us/step - loss: 0.1123 - acc: 0.9588 - val_loss: 1.1701 - val_acc: 0.7870\n"
     ]
    },
    {
     "data": {
      "image/png": "[encoded data removed]",
      "text/plain": [
       "<Figure size 432x288 with 1 Axes>"
      ]
     },
     "metadata": {
      "needs_background": "light"
     },
     "output_type": "display_data"
    }
   ],
   "source": [
    "model5 = models.Sequential()\n",
    "\n",
    "model5.add(layers.Dense(128,activation='relu',input_shape=(10000,)))\n",
    "model5.add(layers.Dense(64, activation='relu'))\n",
    "model5.add(layers.Dense(64, activation='relu'))\n",
    "model5.add(layers.Dense(46, activation='softmax'))\n",
    "\n",
    "model5.compile(optimizer='rmsprop',loss='categorical_crossentropy',metrics=['accuracy'])\n",
    "\n",
    "history5= model5.fit(partial_x_train,\n",
    "                    partial_y_train, \n",
    "                    epochs=20,\n",
    "                    batch_size=512,\n",
    "                    validation_data=(x_val,y_val))\n",
    "\n",
    "loss5 = history5.history['loss']\n",
    "val_loss5 = history5.history['val_loss']\n",
    "\n",
    "epochs = range(1, len(loss)+1)\n",
    "\n",
    "plt.plot(epochs, loss5, 'ro', label='Training Loss')\n",
    "plt.plot(epochs, val_loss5, 'b', label='Validation Loss')\n",
    "plt.title('Training and validation loss')\n",
    "plt.xlabel('Epochs')\n",
    "plt.ylabel('Loss')\n",
    "plt.legend()\n",
    "\n",
    "plt.show()"
   ]
  },
  {
   "cell_type": "markdown",
   "metadata": {},
   "source": [
    "The above examples show a basic hyperparameter tuning to reach as a low a validation loss as possible. This seems to happen with both of the 2 layer networks. Increasing the number of hidden layers in both brought back a much lower but more volatile 0.84 loss whereas increasing the number of hidden layers in 1 resulted in a much smoother but higher 0.87 loss. Let's see which one performs better on the test data when trained properly. This occurred on both at around epoch 7."
   ]
  },
  {
   "cell_type": "code",
   "execution_count": 28,
   "metadata": {},
   "outputs": [
    {
     "name": "stdout",
     "output_type": "stream",
     "text": [
      "Train on 7982 samples, validate on 1000 samples\n",
      "Epoch 1/7\n",
      "7982/7982 [==============================] - 2s 302us/step - loss: 2.2137 - acc: 0.5636 - val_loss: 1.3593 - val_acc: 0.7150\n",
      "Epoch 2/7\n",
      "7982/7982 [==============================] - 1s 140us/step - loss: 1.0938 - acc: 0.7676 - val_loss: 1.1254 - val_acc: 0.7840\n",
      "Epoch 3/7\n",
      "7982/7982 [==============================] - 1s 143us/step - loss: 0.7725 - acc: 0.8385 - val_loss: 0.9892 - val_acc: 0.7830\n",
      "Epoch 4/7\n",
      "7982/7982 [==============================] - 1s 142us/step - loss: 0.5703 - acc: 0.8820 - val_loss: 0.9208 - val_acc: 0.8080\n",
      "Epoch 5/7\n",
      "7982/7982 [==============================] - 1s 153us/step - loss: 0.4028 - acc: 0.9176 - val_loss: 0.9313 - val_acc: 0.7870\n",
      "Epoch 6/7\n",
      "7982/7982 [==============================] - 1s 143us/step - loss: 0.3155 - acc: 0.9350 - val_loss: 0.9601 - val_acc: 0.8030\n",
      "Epoch 7/7\n",
      "7982/7982 [==============================] - 1s 143us/step - loss: 0.2528 - acc: 0.9434 - val_loss: 0.9574 - val_acc: 0.8090\n",
      "Train on 7982 samples, validate on 1000 samples\n",
      "Epoch 1/7\n",
      "7982/7982 [==============================] - 2s 291us/step - loss: 2.1976 - acc: 0.5611 - val_loss: 1.3898 - val_acc: 0.6900\n",
      "Epoch 2/7\n",
      "7982/7982 [==============================] - 1s 149us/step - loss: 1.1385 - acc: 0.7524 - val_loss: 1.1105 - val_acc: 0.7510\n",
      "Epoch 3/7\n",
      "7982/7982 [==============================] - 1s 145us/step - loss: 0.8101 - acc: 0.8225 - val_loss: 1.0409 - val_acc: 0.7750\n",
      "Epoch 4/7\n",
      "7982/7982 [==============================] - 1s 144us/step - loss: 0.5948 - acc: 0.8792 - val_loss: 0.9946 - val_acc: 0.7930\n",
      "Epoch 5/7\n",
      "7982/7982 [==============================] - 1s 143us/step - loss: 0.4439 - acc: 0.9069 - val_loss: 0.8886 - val_acc: 0.8090\n",
      "Epoch 6/7\n",
      "7982/7982 [==============================] - 1s 149us/step - loss: 0.3394 - acc: 0.9277 - val_loss: 0.8706 - val_acc: 0.8250\n",
      "Epoch 7/7\n",
      "7982/7982 [==============================] - 1s 150us/step - loss: 0.2681 - acc: 0.9389 - val_loss: 0.8907 - val_acc: 0.8150\n"
     ]
    },
    {
     "data": {
      "image/png": "[encoded data removed]",
      "text/plain": [
       "<Figure size 432x288 with 1 Axes>"
      ]
     },
     "metadata": {
      "needs_background": "light"
     },
     "output_type": "display_data"
    }
   ],
   "source": [
    "model_final_2 = models.Sequential()\n",
    "\n",
    "model_final_2.add(layers.Dense(128,activation='relu',input_shape=(10000,)))\n",
    "model_final_2.add(layers.Dense(128, activation='relu'))\n",
    "model_final_2.add(layers.Dense(46, activation='softmax'))\n",
    "\n",
    "model_final_2.compile(optimizer='rmsprop',loss='categorical_crossentropy',metrics=['accuracy'])\n",
    "\n",
    "history_final_2 = model_final_2.fit(partial_x_train,\n",
    "                    partial_y_train, \n",
    "                    epochs=7,\n",
    "                    batch_size=512,\n",
    "                    validation_data=(x_val,y_val))\n",
    "\n",
    "loss_final_2 = history_final_2.history['loss']\n",
    "val_loss_final_2 = history_final_2.history['val_loss']\n",
    "\n",
    "epochs = range(1, len(loss_final_2)+1)\n",
    "\n",
    "model_final_4 = models.Sequential()\n",
    "\n",
    "model_final_4.add(layers.Dense(128,activation='relu',input_shape=(10000,)))\n",
    "model_final_4.add(layers.Dense(64, activation='relu'))\n",
    "model_final_4.add(layers.Dense(46, activation='softmax'))\n",
    "\n",
    "model_final_4.compile(optimizer='rmsprop',loss='categorical_crossentropy',metrics=['accuracy'])\n",
    "\n",
    "history_final_4 = model_final_4.fit(partial_x_train,\n",
    "                    partial_y_train, \n",
    "                    epochs=7,\n",
    "                    batch_size=512,\n",
    "                    validation_data=(x_val,y_val))\n",
    "\n",
    "loss_final_4 = history_final_4.history['loss']\n",
    "val_loss_final_4 = history_final_4.history['val_loss']\n",
    "\n",
    "epochs = range(1, len(loss_final_4)+1)\n",
    "\n",
    "plt.plot(epochs, val_loss_final_2, 'r', label='Training Loss')\n",
    "plt.plot(epochs, val_loss_final_4, 'b', label='Validation Loss')\n",
    "plt.title('Training and validation loss')\n",
    "plt.xlabel('Epochs')\n",
    "plt.ylabel('Loss')\n",
    "plt.legend()\n",
    "\n",
    "plt.show()\n",
    "\n"
   ]
  },
  {
   "cell_type": "markdown",
   "metadata": {},
   "source": [
    "Model 4 seems to overall outperform model 2. Let's see how it does with the test data."
   ]
  },
  {
   "cell_type": "code",
   "execution_count": 37,
   "metadata": {
    "scrolled": true
   },
   "outputs": [
    {
     "name": "stdout",
     "output_type": "stream",
     "text": [
      "Train on 7982 samples, validate on 1000 samples\n",
      "Epoch 1/9\n",
      "7982/7982 [==============================] - 2s 269us/step - loss: 2.5692 - acc: 0.5159 - val_loss: 1.7135 - val_acc: 0.6320\n",
      "Epoch 2/9\n",
      "7982/7982 [==============================] - 1s 109us/step - loss: 1.4133 - acc: 0.6968 - val_loss: 1.3143 - val_acc: 0.7060\n",
      "Epoch 3/9\n",
      "7982/7982 [==============================] - 1s 103us/step - loss: 1.0590 - acc: 0.7722 - val_loss: 1.1433 - val_acc: 0.7540\n",
      "Epoch 4/9\n",
      "7982/7982 [==============================] - 1s 103us/step - loss: 0.8453 - acc: 0.8198 - val_loss: 1.0476 - val_acc: 0.7740\n",
      "Epoch 5/9\n",
      "7982/7982 [==============================] - 1s 108us/step - loss: 0.6726 - acc: 0.8578 - val_loss: 1.0118 - val_acc: 0.7690\n",
      "Epoch 6/9\n",
      "7982/7982 [==============================] - 1s 115us/step - loss: 0.5393 - acc: 0.8880 - val_loss: 0.9351 - val_acc: 0.7910\n",
      "Epoch 7/9\n",
      "7982/7982 [==============================] - 1s 104us/step - loss: 0.4309 - acc: 0.9102 - val_loss: 0.8915 - val_acc: 0.8190\n",
      "Epoch 8/9\n",
      "7982/7982 [==============================] - 1s 108us/step - loss: 0.3493 - acc: 0.9270 - val_loss: 0.8907 - val_acc: 0.8090\n",
      "Epoch 9/9\n",
      "7982/7982 [==============================] - 1s 126us/step - loss: 0.2909 - acc: 0.9380 - val_loss: 0.8918 - val_acc: 0.8240\n",
      "Train on 7982 samples, validate on 1000 samples\n",
      "Epoch 1/5\n",
      "7982/7982 [==============================] - 3s 335us/step - loss: 2.3067 - acc: 0.5248 - val_loss: 1.4610 - val_acc: 0.6750\n",
      "Epoch 2/5\n",
      "7982/7982 [==============================] - 1s 146us/step - loss: 1.2206 - acc: 0.7254 - val_loss: 1.1841 - val_acc: 0.7290\n",
      "Epoch 3/5\n",
      "7982/7982 [==============================] - 1s 151us/step - loss: 0.8982 - acc: 0.7969 - val_loss: 1.0503 - val_acc: 0.7670\n",
      "Epoch 4/5\n",
      "7982/7982 [==============================] - 1s 160us/step - loss: 0.6849 - acc: 0.8428 - val_loss: 0.9554 - val_acc: 0.7910\n",
      "Epoch 5/5\n",
      "7982/7982 [==============================] - 1s 153us/step - loss: 0.4995 - acc: 0.8901 - val_loss: 0.9403 - val_acc: 0.7970\n",
      "Train on 7982 samples, validate on 1000 samples\n",
      "Epoch 1/6\n",
      "7982/7982 [==============================] - 3s 345us/step - loss: 2.3281 - acc: 0.5039 - val_loss: 1.4668 - val_acc: 0.6900\n",
      "Epoch 2/6\n",
      "7982/7982 [==============================] - 1s 152us/step - loss: 1.2087 - acc: 0.7316 - val_loss: 1.2197 - val_acc: 0.7210\n",
      "Epoch 3/6\n",
      "7982/7982 [==============================] - 1s 153us/step - loss: 0.8950 - acc: 0.7892 - val_loss: 1.0762 - val_acc: 0.7580\n",
      "Epoch 4/6\n",
      "7982/7982 [==============================] - 1s 154us/step - loss: 0.6729 - acc: 0.8449 - val_loss: 0.9899 - val_acc: 0.7850\n",
      "Epoch 5/6\n",
      "7982/7982 [==============================] - 1s 159us/step - loss: 0.5211 - acc: 0.8821 - val_loss: 1.1381 - val_acc: 0.7480\n",
      "Epoch 6/6\n",
      "7982/7982 [==============================] - 1s 160us/step - loss: 0.3955 - acc: 0.9100 - val_loss: 0.9717 - val_acc: 0.7980\n",
      "2246/2246 [==============================] - 0s 174us/step\n",
      "2246/2246 [==============================] - 0s 153us/step\n",
      "2246/2246 [==============================] - 0s 157us/step\n",
      "2246/2246 [==============================] - 0s 135us/step\n",
      "2246/2246 [==============================] - 0s 159us/step\n",
      "[0.9704502197853285, 0.7965271594475554]\n",
      "[1.0243550238605068, 0.7818343722438132]\n",
      "[1.0766453991377873, 0.769813000890472]\n",
      "[0.9902850666538691, 0.7809439003202179]\n",
      "[1.0523875738400386, 0.7720391808188821]\n"
     ]
    }
   ],
   "source": [
    "model_final = models.Sequential()\n",
    "\n",
    "model_final.add(layers.Dense(64,activation='relu',input_shape=(10000,)))\n",
    "model_final.add(layers.Dense(64, activation='relu'))\n",
    "model_final.add(layers.Dense(46, activation='softmax'))\n",
    "\n",
    "model_final.compile(optimizer='rmsprop',loss='categorical_crossentropy',metrics=['accuracy'])\n",
    "\n",
    "model_final.fit(partial_x_train,\n",
    "        partial_y_train, \n",
    "        epochs=9,\n",
    "        batch_size=512,\n",
    "        validation_data=(x_val,y_val))\n",
    "\n",
    "model_final_3 = models.Sequential()\n",
    "\n",
    "model_final_3.add(layers.Dense(128,activation='relu',input_shape=(10000,)))\n",
    "model_final_3.add(layers.Dense(128, activation='relu'))\n",
    "model_final_3.add(layers.Dense(64, activation='relu'))\n",
    "model_final_3.add(layers.Dense(46, activation='softmax'))\n",
    "\n",
    "model_final_3.compile(optimizer='rmsprop',loss='categorical_crossentropy',metrics=['accuracy'])\n",
    "\n",
    "model_final_3.fit(partial_x_train,\n",
    "        partial_y_train, \n",
    "        epochs=5,\n",
    "        batch_size=512,\n",
    "        validation_data=(x_val,y_val))\n",
    "\n",
    "model_final_5 = models.Sequential()\n",
    "\n",
    "model_final_5.add(layers.Dense(128,activation='relu',input_shape=(10000,)))\n",
    "model_final_5.add(layers.Dense(64, activation='relu'))\n",
    "model_final_5.add(layers.Dense(64, activation='relu'))\n",
    "model_final_5.add(layers.Dense(46, activation='softmax'))\n",
    "\n",
    "model_final_5.compile(optimizer='rmsprop',loss='categorical_crossentropy',metrics=['accuracy'])\n",
    "\n",
    "model_final_5.fit(partial_x_train,\n",
    "        partial_y_train, \n",
    "        epochs=6,\n",
    "        batch_size=512,\n",
    "        validation_data=(x_val,y_val))\n",
    "score4 = model_final_4.evaluate(x_test,y_test)\n",
    "score2 = model_final_2.evaluate(x_test,y_test)\n",
    "score5 = model_final_5.evaluate(x_test,y_test)\n",
    "score1 = model_final.evaluate(x_test,y_test)\n",
    "score3 = model_final_3.evaluate(x_test,y_test)\n",
    "print(score4)\n",
    "print(score2)\n",
    "print(score5)\n",
    "print(score1)\n",
    "print(score3)"
   ]
  },
  {
   "cell_type": "markdown",
   "metadata": {},
   "source": [
    "Comparisons between the various models can be seen here! Model 4 outperformed the other 4 significantly"
   ]
  }
 ],
 "metadata": {
  "kernelspec": {
   "display_name": "Python 3.7.1 64-bit ('base': conda)",
   "language": "python",
   "name": "python37164bitbasecondaf3e9afc952da4cb8ac0d3fa0ef5802f7"
  },
  "language_info": {
   "codemirror_mode": {
    "name": "ipython",
    "version": 3
   },
   "file_extension": ".py",
   "mimetype": "text/x-python",
   "name": "python",
   "nbconvert_exporter": "python",
   "pygments_lexer": "ipython3",
   "version": "3.7.1"
  }
 },
 "nbformat": 4,
 "nbformat_minor": 4
}
